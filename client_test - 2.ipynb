{
 "cells": [
  {
   "cell_type": "code",
   "execution_count": 1,
   "metadata": {
    "tags": []
   },
   "outputs": [
    {
     "output_type": "stream",
     "name": "stdout",
     "text": [
      "LOGIN -> SUCCESSFUL\nListening to Server.\n"
     ]
    },
    {
     "output_type": "execute_result",
     "data": {
      "text/plain": [
       "118"
      ]
     },
     "metadata": {},
     "execution_count": 1
    }
   ],
   "source": [
    "from prmp_chat.backend.client import *\n",
    "client = Client(user=User(id='ade2', name='ade2', key='ade2'), relogin=1)\n",
    "# res = client.login()\n",
    "res = client.re_login()\n",
    "if res in [RESPONSE.SUCCESSFUL, RESPONSE.SIMULTANEOUS_LOGIN]: THREAD(client.start_session)\n",
    "client.send_chat('ade1', 'TYPE.CHANNEL')\n"
   ]
  },
  {
   "cell_type": "code",
   "execution_count": 13,
   "metadata": {},
   "outputs": [
    {
     "output_type": "execute_result",
     "data": {
      "text/plain": [
       "128"
      ]
     },
     "metadata": {},
     "execution_count": 13
    }
   ],
   "source": [
    "client.send_chat('ade1', 'testing if its working')\n",
    "# client.send_chat('ade1', 'TYPE.CHANNEL')\n",
    "# client.send_chat('c_ade2', 'lovel', type=TYPE.CHANNEL)\n",
    "# client.send_chat('g_ade2', 'lovel', type=TYPE.GROUP)"
   ]
  },
  {
   "cell_type": "code",
   "execution_count": null,
   "metadata": {},
   "outputs": [],
   "source": []
  }
 ],
 "metadata": {
  "kernelspec": {
   "name": "python3",
   "display_name": "Python 3.9.2 64-bit"
  },
  "metadata": {
   "interpreter": {
    "hash": "004de6046f1b3d314f33fdb43a2dc798b2646e5600efd8df5066c8b63a00ff6d"
   }
  },
  "interpreter": {
   "hash": "11f1dc213e07634baa4c5c321dec03c05dafae643c50f20e6d1a492290c05dc2"
  }
 },
 "nbformat": 4,
 "nbformat_minor": 2
}