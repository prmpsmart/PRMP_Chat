{
 "cells": [
  {
   "cell_type": "code",
   "execution_count": 3,
   "metadata": {},
   "outputs": [
    {
     "output_type": "stream",
     "name": "stdout",
     "text": [
      "LOGGING IN.\nLOGIN -> SUCCESSFUL\n"
     ]
    }
   ],
   "source": [
    "from prmp_chat.backend.client import *\n",
    "\n",
    "# dic = dict(id='EEE/18/6718', name='Apata Miracle Peter', key='princerm')\n",
    "dic = dict(id='ade0', name='ade0', key='ade0')\n",
    "user = Client_User(**dic)\n",
    "\n",
    "client = Client(user=user)\n",
    "# client.signup()\n",
    "client.login()\n",
    "THREAD(client.start_session)"
   ]
  },
  {
   "cell_type": "code",
   "execution_count": null,
   "metadata": {},
   "outputs": [],
   "source": [
    "\n",
    "client.send_chat('ade1', 'testing if its working', 'GROUP')\n",
    "# client.send_chat('G_ade1', 'testing if its working', 'GROUP')\n",
    "# client.send_tag(Tag(action=ACTION.DATA))"
   ]
  },
  {
   "cell_type": "code",
   "execution_count": null,
   "metadata": {},
   "outputs": [],
   "source": [
    "client.recv_tag()"
   ]
  },
  {
   "cell_type": "code",
   "execution_count": null,
   "metadata": {},
   "outputs": [],
   "source": []
  }
 ],
 "metadata": {
  "kernelspec": {
   "name": "python3",
   "display_name": "Python 3.9.2 64-bit"
  },
  "metadata": {
   "interpreter": {
    "hash": "004de6046f1b3d314f33fdb43a2dc798b2646e5600efd8df5066c8b63a00ff6d"
   }
  },
  "interpreter": {
   "hash": "11f1dc213e07634baa4c5c321dec03c05dafae643c50f20e6d1a492290c05dc2"
  }
 },
 "nbformat": 4,
 "nbformat_minor": 2
}