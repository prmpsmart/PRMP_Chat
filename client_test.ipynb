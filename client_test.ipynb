{
 "cells": [
  {
   "cell_type": "code",
   "execution_count": 2,
   "metadata": {},
   "outputs": [
    {
     "output_type": "stream",
     "name": "stdout",
     "text": [
      "SIGNING UP\nACTION.SIGNUP -> RESPONSE.SUCCESSFUL\n"
     ]
    },
    {
     "output_type": "execute_result",
     "data": {
      "text/plain": [
       "<RESPONSE.SUCCESSFUL>"
      ]
     },
     "metadata": {},
     "execution_count": 2
    }
   ],
   "source": [
    "from prmp_chat.backend.client import *\n",
    "\n",
    "dic = dict(id='EEE/18/6718', name='Apata Miracle Peter', key='princerm')\n",
    "user = Client_User(**dic)\n",
    "\n",
    "client = Client(user=user)\n",
    "client.signup()"
   ]
  },
  {
   "cell_type": "code",
   "execution_count": 1,
   "metadata": {},
   "outputs": [
    {
     "output_type": "stream",
     "name": "stdout",
     "text": [
      "LOGGING IN.\nACTION.LOGIN -> RESPONSE.SUCCESSFUL\n"
     ]
    },
    {
     "output_type": "execute_result",
     "data": {
      "text/plain": [
       "<RESPONSE.SUCCESSFUL>"
      ]
     },
     "metadata": {},
     "execution_count": 1
    }
   ],
   "source": [
    "from prmp_chat.backend.client import *\n",
    "\n",
    "dic = dict(id='EEE/18/6718', name='Apata Miracle Peter', key='princerm')\n",
    "user = Client_User(**dic)\n",
    "\n",
    "client = Client(user=user)\n",
    "client.login()"
   ]
  },
  {
   "cell_type": "code",
   "execution_count": null,
   "metadata": {},
   "outputs": [],
   "source": []
  }
 ],
 "metadata": {
  "kernelspec": {
   "name": "python3",
   "display_name": "Python 3.9.2 64-bit"
  },
  "metadata": {
   "interpreter": {
    "hash": "004de6046f1b3d314f33fdb43a2dc798b2646e5600efd8df5066c8b63a00ff6d"
   }
  },
  "interpreter": {
   "hash": "11f1dc213e07634baa4c5c321dec03c05dafae643c50f20e6d1a492290c05dc2"
  }
 },
 "nbformat": 4,
 "nbformat_minor": 2
}