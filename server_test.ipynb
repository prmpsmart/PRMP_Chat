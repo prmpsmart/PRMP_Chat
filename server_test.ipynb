{
 "metadata": {
  "language_info": {
   "codemirror_mode": {
    "name": "ipython",
    "version": 3
   },
   "file_extension": ".py",
   "mimetype": "text/x-python",
   "name": "python",
   "nbconvert_exporter": "python",
   "pygments_lexer": "ipython3",
   "version": "3.9.2"
  },
  "orig_nbformat": 2,
  "kernelspec": {
   "name": "python3",
   "display_name": "Python 3.9.2 64-bit"
  },
  "interpreter": {
   "hash": "11f1dc213e07634baa4c5c321dec03c05dafae643c50f20e6d1a492290c05dc2"
  }
 },
 "nbformat": 4,
 "nbformat_minor": 2,
 "cells": [
  {
   "cell_type": "code",
   "execution_count": 1,
   "metadata": {},
   "outputs": [
    {
     "output_type": "stream",
     "name": "stdout",
     "text": [
      "Accepting connections !\n",
      "\n",
      "Listening to User(id=ade2, name=ade2)\n",
      "\n",
      "Listening to User(id=ade1, name=ade1)\n",
      "\n",
      "Exception in thread Thread-5:\n",
      "Traceback (most recent call last):\n",
      "  File \"C:\\Users\\Administrator\\AppData\\Local\\Programs\\Python\\Python39\\lib\\threading.py\", line 954, in _bootstrap_inner\n",
      "    self.run()\n",
      "  File \"C:\\Users\\Administrator\\AppData\\Local\\Programs\\Python\\Python39\\lib\\threading.py\", line 892, in run\n",
      "    self._target(*self._args, **self._kwargs)\n",
      "  File \"c:\\Users\\Administrator\\Coding_Projects\\Python\\Dev_Workspace\\PRMP_Chat\\prmp_chat\\backend\\server.py\", line 356, in add\n",
      "    session.start_session()\n",
      "  File \"c:\\Users\\Administrator\\Coding_Projects\\Python\\Dev_Workspace\\PRMP_Chat\\prmp_chat\\backend\\server.py\", line 402, in start_session\n",
      "    soc_resp = self.client.send_tag(tag)\n",
      "  File \"c:\\Users\\Administrator\\Coding_Projects\\Python\\Dev_Workspace\\PRMP_Chat\\prmp_chat\\backend\\core.py\", line 385, in send_tag\n",
      "    def send_tag(self, tag: Tag) -> int: return self.catch(lambda: self.socket.send(tag.encode))\n",
      "  File \"c:\\Users\\Administrator\\Coding_Projects\\Python\\Dev_Workspace\\PRMP_Chat\\prmp_chat\\backend\\core.py\", line 358, in catch\n",
      "    result = func()\n",
      "  File \"c:\\Users\\Administrator\\Coding_Projects\\Python\\Dev_Workspace\\PRMP_Chat\\prmp_chat\\backend\\core.py\", line 385, in <lambda>\n",
      "    def send_tag(self, tag: Tag) -> int: return self.catch(lambda: self.socket.send(tag.encode))\n",
      "  File \"c:\\Users\\Administrator\\Coding_Projects\\Python\\Dev_Workspace\\PRMP_Chat\\prmp_chat\\backend\\core.py\", line 118, in encode\n",
      "    string = json.dumps(self.dict)\n",
      "  File \"C:\\Users\\Administrator\\AppData\\Local\\Programs\\Python\\Python39\\lib\\json\\__init__.py\", line 231, in dumps\n",
      "    return _default_encoder.encode(obj)\n",
      "  File \"C:\\Users\\Administrator\\AppData\\Local\\Programs\\Python\\Python39\\lib\\json\\encoder.py\", line 199, in encode\n",
      "    chunks = self.iterencode(o, _one_shot=True)\n",
      "  File \"C:\\Users\\Administrator\\AppData\\Local\\Programs\\Python\\Python39\\lib\\json\\encoder.py\", line 257, in iterencode\n",
      "    return _iterencode(o, 0)\n",
      "  File \"C:\\Users\\Administrator\\AppData\\Local\\Programs\\Python\\Python39\\lib\\json\\encoder.py\", line 179, in default\n",
      "    raise TypeError(f'Object of type {o.__class__.__name__} '\n",
      "TypeError: Object of type CONSTANT is not JSON serializable\n"
     ]
    }
   ],
   "source": [
    "from prmp_chat.backend.server import *\n",
    "server_test()\n",
    "server = Server()\n",
    "server.start()\n",
    "# THREAD(server.start)"
   ]
  },
  {
   "cell_type": "code",
   "execution_count": null,
   "metadata": {},
   "outputs": [],
   "source": [
    "# print(10**6, 2**20)"
   ]
  }
 ]
}