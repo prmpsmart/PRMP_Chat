{
 "metadata": {
  "language_info": {
   "codemirror_mode": {
    "name": "ipython",
    "version": 3
   },
   "file_extension": ".py",
   "mimetype": "text/x-python",
   "name": "python",
   "nbconvert_exporter": "python",
   "pygments_lexer": "ipython3",
   "version": "3.9.2"
  },
  "orig_nbformat": 2,
  "kernelspec": {
   "name": "python3",
   "display_name": "Python 3.9.2 64-bit"
  },
  "interpreter": {
   "hash": "11f1dc213e07634baa4c5c321dec03c05dafae643c50f20e6d1a492290c05dc2"
  }
 },
 "nbformat": 4,
 "nbformat_minor": 2,
 "cells": [
  {
   "cell_type": "code",
   "execution_count": 1,
   "metadata": {},
   "outputs": [
    {
     "output_type": "stream",
     "name": "stdout",
     "text": [
      "Accepting connections !\n",
      "Client_Socket(address=127.0.0.1, port=57929) connected!\n",
      "ade0\n",
      "Client_Socket(address=127.0.0.1, port=57929) -> ACTION.LOGIN -> RESPONSE.SUCCESSFUL\n",
      "Listening to Server_User(id=ade0, name=ade0)\n",
      "127.0.0.1 -> STATUS.OFFLINE -> STATUS.LAST_SEEN=1624720966\n",
      "Exception in thread Thread-5:\n",
      "Traceback (most recent call last):\n",
      "  File \"C:\\Users\\Administrator\\AppData\\Local\\Programs\\Python\\Python39\\lib\\threading.py\", line 954, in _bootstrap_inner\n",
      "    self.run()\n",
      "  File \"C:\\Users\\Administrator\\AppData\\Local\\Programs\\Python\\Python39\\lib\\threading.py\", line 892, in run\n",
      "    self._target(*self._args, **self._kwargs)\n",
      "  File \"c:\\Users\\Administrator\\Coding_Projects\\Python\\Dev_Workspace\\PRMP_Chat\\prmp_chat\\backend\\server.py\", line 419, in add\n",
      "    session.start_session()\n",
      "  File \"c:\\Users\\Administrator\\Coding_Projects\\Python\\Dev_Workspace\\PRMP_Chat\\prmp_chat\\backend\\server.py\", line 349, in start_session\n",
      "    tag = self.parser.parse(tag)\n",
      "  File \"c:\\Users\\Administrator\\Coding_Projects\\Python\\Dev_Workspace\\PRMP_Chat\\prmp_chat\\backend\\server.py\", line 297, in parse\n",
      "    tag = Tag(response=func(tag))\n",
      "  File \"c:\\Users\\Administrator\\Coding_Projects\\Python\\Dev_Workspace\\PRMP_Chat\\prmp_chat\\backend\\server.py\", line 277, in chat\n",
      "    obj = top_manager[recipient]\n",
      "TypeError: 'type' object is not subscriptable\n",
      "Client_Socket(address=127.0.0.1, port=57984) connected!\n",
      "ade0\n",
      "Client_Socket(address=127.0.0.1, port=57984) -> ACTION.LOGIN -> RESPONSE.SUCCESSFUL\n",
      "Listening to Server_User(id=ade0, name=ade0)\n"
     ]
    }
   ],
   "source": [
    "from prmp_chat.backend.server import Server, server_test\n",
    "server_test()\n",
    "server = Server()\n",
    "server.start()"
   ]
  },
  {
   "cell_type": "code",
   "execution_count": null,
   "metadata": {},
   "outputs": [],
   "source": []
  }
 ]
}