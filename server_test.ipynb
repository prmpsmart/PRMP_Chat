{
 "metadata": {
  "language_info": {
   "codemirror_mode": {
    "name": "ipython",
    "version": 3
   },
   "file_extension": ".py",
   "mimetype": "text/x-python",
   "name": "python",
   "nbconvert_exporter": "python",
   "pygments_lexer": "ipython3",
   "version": "3.9.2"
  },
  "orig_nbformat": 2,
  "kernelspec": {
   "name": "python3",
   "display_name": "Python 3.9.2 64-bit"
  },
  "interpreter": {
   "hash": "11f1dc213e07634baa4c5c321dec03c05dafae643c50f20e6d1a492290c05dc2"
  }
 },
 "nbformat": 4,
 "nbformat_minor": 2,
 "cells": [
  {
   "cell_type": "code",
   "execution_count": 1,
   "metadata": {},
   "outputs": [
    {
     "output_type": "stream",
     "name": "stdout",
     "text": [
      "Accepting connections !\n",
      "\n",
      "Listening to User(id=ade4, name=ade4)\n",
      "\n",
      "Listening to User(id=ade1, name=ade1)\n",
      "\n",
      "User(id=ade1, name=ade1) -> OFFLINE -> LAST_SEEN = 2021-07-04, 04:19:04\n",
      "Listening to User(id=ade1, name=ade1)\n",
      "\n",
      "User(id=ade1, name=ade1) -> OFFLINE -> LAST_SEEN = 2021-07-04, 04:20:08\n",
      "Listening to User(id=ade1, name=ade1)\n",
      "\n",
      "User(id=ade1, name=ade1) -> OFFLINE -> LAST_SEEN = 2021-07-04, 04:21:12\n",
      "Listening to User(id=ade1, name=ade1)\n",
      "\n",
      "User(id=ade1, name=ade1) -> OFFLINE -> LAST_SEEN = 2021-07-04, 04:21:49\n",
      "Listening to User(id=ade1, name=ade1)\n",
      "\n",
      "User(id=ade1, name=ade1) -> OFFLINE -> LAST_SEEN = 2021-07-04, 04:22:14\n",
      "Listening to User(id=ade1, name=ade1)\n",
      "\n",
      "User(id=ade1, name=ade1) -> OFFLINE -> LAST_SEEN = 2021-07-04, 04:22:56\n",
      "Listening to User(id=ade1, name=ade1)\n",
      "\n",
      "User(id=ade1, name=ade1) -> OFFLINE -> LAST_SEEN = 2021-07-04, 04:24:03\n",
      "Listening to User(id=ade1, name=ade1)\n",
      "\n",
      "User(id=ade1, name=ade1) -> OFFLINE -> LAST_SEEN = 2021-07-04, 04:24:58\n",
      "Listening to User(id=ade1, name=ade1)\n",
      "\n",
      "User(id=ade4, name=ade4) -> OFFLINE -> LAST_SEEN = 2021-07-04, 04:25:14\n",
      "Listening to User(id=ade4, name=ade4)\n",
      "\n",
      "User(id=ade1, name=ade1) -> OFFLINE -> LAST_SEEN = 2021-07-04, 04:25:30\n",
      "Listening to User(id=ade1, name=ade1)\n",
      "\n",
      "User(id=ade1, name=ade1) -> OFFLINE -> LAST_SEEN = 2021-07-04, 04:25:39\n",
      "Listening to User(id=ade1, name=ade1)\n",
      "\n",
      "User(id=ade1, name=ade1) -> OFFLINE -> LAST_SEEN = 2021-07-04, 04:26:20\n",
      "Listening to User(id=ade1, name=ade1)\n",
      "\n",
      "User(id=ade1, name=ade1) -> OFFLINE -> LAST_SEEN = 2021-07-04, 04:26:43\n",
      "Listening to User(id=ade1, name=ade1)\n",
      "\n",
      "User(id=ade1, name=ade1) -> OFFLINE -> LAST_SEEN = 2021-07-04, 04:27:39\n",
      "Listening to User(id=ade1, name=ade1)\n",
      "\n",
      "User(id=ade1, name=ade1) -> OFFLINE -> LAST_SEEN = 2021-07-04, 04:28:20\n",
      "Listening to User(id=ade1, name=ade1)\n",
      "\n",
      "Listening to User(id=ade2, name=ade2)\n",
      "\n",
      "User(id=ade4, name=ade4) -> OFFLINE -> LAST_SEEN = 2021-07-04, 04:30:24User(id=ade2, name=ade2) -> OFFLINE -> LAST_SEEN = 2021-07-04, 04:30:24\n",
      "\n",
      "Listening to User(id=ade2, name=ade2)\n",
      "\n",
      "User(id=ade1, name=ade1) -> OFFLINE -> LAST_SEEN = 2021-07-04, 04:31:52\n"
     ]
    }
   ],
   "source": [
    "from prmp_chat.backend.server import *\n",
    "server_test()\n",
    "server = Server()\n",
    "server.start()\n",
    "# THREAD(server.start)"
   ]
  },
  {
   "cell_type": "code",
   "execution_count": null,
   "metadata": {},
   "outputs": [],
   "source": [
    "# print(10**6, 2**20)"
   ]
  }
 ]
}