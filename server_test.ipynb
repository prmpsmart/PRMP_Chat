{
 "metadata": {
  "language_info": {
   "codemirror_mode": {
    "name": "ipython",
    "version": 3
   },
   "file_extension": ".py",
   "mimetype": "text/x-python",
   "name": "python",
   "nbconvert_exporter": "python",
   "pygments_lexer": "ipython3",
   "version": "3.9.2"
  },
  "orig_nbformat": 2,
  "kernelspec": {
   "name": "python3",
   "display_name": "Python 3.9.2 64-bit"
  },
  "interpreter": {
   "hash": "11f1dc213e07634baa4c5c321dec03c05dafae643c50f20e6d1a492290c05dc2"
  }
 },
 "nbformat": 4,
 "nbformat_minor": 2,
 "cells": [
  {
   "cell_type": "code",
   "execution_count": 1,
   "metadata": {},
   "outputs": [
    {
     "output_type": "stream",
     "name": "stdout",
     "text": [
      "Accepting connections !\n",
      "savingNone\n",
      "Client_Socket(address=127.0.0.1, port=55769) connected!\n",
      "Client_Socket(address=127.0.0.1, port=55769) -> ACTION.SIGNUP -> RESPONSE.SUCCESSFUL\n",
      "Client_Socket(address=127.0.0.1, port=55772) connected!\n",
      "Client_Socket(address=127.0.0.1, port=55772) -> ACTION.SIGNUP -> RESPONSE.EXIST\n",
      "Client_Socket(address=127.0.0.1, port=55779) connected!\n",
      "Client_Socket(address=127.0.0.1, port=55779) -> ACTION.SIGNUP -> RESPONSE.EXIST\n"
     ]
    }
   ],
   "source": [
    "from prmp_chat.backend.server import Server\n",
    "\n",
    "server = Server()\n",
    "server.start()"
   ]
  },
  {
   "cell_type": "code",
   "execution_count": null,
   "metadata": {},
   "outputs": [],
   "source": [
    "server.close()"
   ]
  },
  {
   "cell_type": "code",
   "execution_count": null,
   "metadata": {},
   "outputs": [],
   "source": []
  }
 ]
}