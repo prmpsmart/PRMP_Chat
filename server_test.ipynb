{
 "metadata": {
  "language_info": {
   "codemirror_mode": {
    "name": "ipython",
    "version": 3
   },
   "file_extension": ".py",
   "mimetype": "text/x-python",
   "name": "python",
   "nbconvert_exporter": "python",
   "pygments_lexer": "ipython3",
   "version": "3.9.2"
  },
  "orig_nbformat": 2,
  "kernelspec": {
   "name": "python3",
   "display_name": "Python 3.9.2 64-bit"
  },
  "interpreter": {
   "hash": "11f1dc213e07634baa4c5c321dec03c05dafae643c50f20e6d1a492290c05dc2"
  }
 },
 "nbformat": 4,
 "nbformat_minor": 2,
 "cells": [
  {
   "cell_type": "code",
   "execution_count": 1,
   "metadata": {},
   "outputs": [
    {
     "output_type": "stream",
     "name": "stdout",
     "text": [
      "Accepting connections !\n",
      "Client_Socket(address=127.0.0.1, port=55417) connected!\n",
      "Client_Socket(address=127.0.0.1, port=55417) -> LOGIN -> SUCCESSFUL\n",
      "Listening to Server_User(id=ade0, name=ade0)\n",
      "127.0.0.1 -> OFFLINE -> LAST_SEEN=1624844414\n",
      "Client_Socket(address=127.0.0.1, port=55436) connected!\n",
      "Client_Socket(address=127.0.0.1, port=55448) connected!\n",
      "Client_Socket(address=127.0.0.1, port=55448) -> LOGIN -> SUCCESSFUL\n",
      "Listening to Server_User(id=ade0, name=ade0)\n",
      "Exception in thread Thread-6:\n",
      "Traceback (most recent call last):\n",
      "  File \"C:\\Users\\Administrator\\AppData\\Local\\Programs\\Python\\Python39\\lib\\threading.py\", line 954, in _bootstrap_inner\n",
      "    self.run()\n",
      "  File \"C:\\Users\\Administrator\\AppData\\Local\\Programs\\Python\\Python39\\lib\\threading.py\", line 892, in run\n",
      "    self._target(*self._args, **self._kwargs)\n",
      "  File \"c:\\Users\\Administrator\\Coding_Projects\\Python\\Dev_Workspace\\PRMP_Chat\\prmp_chat\\backend\\server.py\", line 429, in add\n",
      "    session.start_session()\n",
      "  File \"c:\\Users\\Administrator\\Coding_Projects\\Python\\Dev_Workspace\\PRMP_Chat\\prmp_chat\\backend\\server.py\", line 364, in start_session\n",
      "    self.stop_session()\n",
      "  File \"c:\\Users\\Administrator\\Coding_Projects\\Python\\Dev_Workspace\\PRMP_Chat\\prmp_chat\\backend\\server.py\", line 372, in stop_session\n",
      "    self.client._close()\n",
      "  File \"c:\\Users\\Administrator\\Coding_Projects\\Python\\Dev_Workspace\\PRMP_Chat\\prmp_chat\\backend\\core.py\", line 123, in _close\n",
      "    self.socket.shutdown(0)\n",
      "OSError: [WinError 10038] An operation was attempted on something that is not a socket\n",
      "127.0.0.1 -> OFFLINE -> LAST_SEEN=1624845029\n",
      "127.0.0.1 -> OFFLINE -> LAST_SEEN=1624845029\n",
      "Client_Socket(address=127.0.0.1, port=55459) connected!\n",
      "Client_Socket(address=127.0.0.1, port=55462) connected!\n",
      "Client_Socket(address=127.0.0.1, port=55465) connected!\n"
     ]
    }
   ],
   "source": [
    "from prmp_chat.backend.server import Server, server_test\n",
    "server_test()\n",
    "server = Server()\n",
    "server.start()"
   ]
  },
  {
   "cell_type": "code",
   "execution_count": null,
   "metadata": {},
   "outputs": [],
   "source": []
  }
 ]
}