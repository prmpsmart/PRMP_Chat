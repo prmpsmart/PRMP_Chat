{
 "metadata": {
  "language_info": {
   "codemirror_mode": {
    "name": "ipython",
    "version": 3
   },
   "file_extension": ".py",
   "mimetype": "text/x-python",
   "name": "python",
   "nbconvert_exporter": "python",
   "pygments_lexer": "ipython3",
   "version": "3.7.3"
  },
  "orig_nbformat": 2,
  "kernelspec": {
   "name": "python373jvsc74a57bd0b3ba2566441a7c06988d0923437866b63cedc61552a5af99d1f4fb67d367b25f",
   "display_name": "Python 3.7.3 32-bit"
  }
 },
 "nbformat": 4,
 "nbformat_minor": 2,
 "cells": [
  {
   "cell_type": "code",
   "execution_count": 1,
   "metadata": {},
   "outputs": [
    {
     "output_type": "stream",
     "name": "stdout",
     "text": [
      "Accepting connections !\n",
      "TOTAL OF 1 CLIENTS ARE ONLINE\n",
      "here we are\n",
      "('127.0.0.1', 63197) connected!\n",
      "('127.0.0.1', 63197) -> ACTION.ACTION.LOGIN -> RESPONSE.RESPONSE.EXTINCT\n",
      "TOTAL OF 2 CLIENTS ARE ONLINE\n",
      "here we are\n",
      "('127.0.0.1', 63257) connected!\n",
      "('127.0.0.1', 63257) -> ACTION.ACTION.LOGIN -> RESPONSE.RESPONSE.EXTINCT\n",
      "TOTAL OF 3 CLIENTS ARE ONLINE\n",
      "here we are\n",
      "('127.0.0.1', 63376) connected!\n",
      "('127.0.0.1', 63376) -> ACTION.ACTION.LOGIN -> RESPONSE.RESPONSE.EXTINCT\n"
     ]
    }
   ],
   "source": [
    "from prmp_chat.server import Server, RECV, SEND, Tag\n",
    "\n",
    "server = Server()\n",
    "server.start()"
   ]
  },
  {
   "cell_type": "code",
   "execution_count": null,
   "metadata": {},
   "outputs": [],
   "source": []
  }
 ]
}